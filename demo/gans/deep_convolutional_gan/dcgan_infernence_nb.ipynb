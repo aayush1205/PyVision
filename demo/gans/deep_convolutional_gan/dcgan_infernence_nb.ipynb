{
  "nbformat": 4,
  "nbformat_minor": 0,
  "metadata": {
    "colab": {
      "name": "dcgan_infernence_nb.ipynb",
      "provenance": []
    },
    "kernelspec": {
      "name": "python3",
      "display_name": "Python 3"
    },
    "language_info": {
      "name": "python"
    },
    "accelerator": "GPU"
  },
  "cells": [
    {
      "cell_type": "markdown",
      "metadata": {
        "id": "OhLyYbq-xa_z"
      },
      "source": [
        "# **Cloning the repositiory**"
      ]
    },
    {
      "cell_type": "code",
      "metadata": {
        "id": "RcfxuocdTfdZ",
        "colab": {
          "base_uri": "https://localhost:8080/"
        },
        "outputId": "961ac1c3-05e9-4f05-8840-8325372b9b34"
      },
      "source": [
        "!git clone https://github.com/indiradutta/PyVision"
      ],
      "execution_count": 1,
      "outputs": [
        {
          "output_type": "stream",
          "text": [
            "Cloning into 'PyVision'...\n",
            "remote: Enumerating objects: 846, done.\u001b[K\n",
            "remote: Counting objects: 100% (207/207), done.\u001b[K\n",
            "remote: Compressing objects: 100% (166/166), done.\u001b[K\n",
            "remote: Total 846 (delta 72), reused 126 (delta 31), pack-reused 639\u001b[K\n",
            "Receiving objects: 100% (846/846), 15.65 MiB | 18.77 MiB/s, done.\n",
            "Resolving deltas: 100% (310/310), done.\n"
          ],
          "name": "stdout"
        }
      ]
    },
    {
      "cell_type": "markdown",
      "metadata": {
        "id": "2tXsQxdFyNd3"
      },
      "source": [
        "# **Running inference to generate images with Deep_Conv_GAN**"
      ]
    },
    {
      "cell_type": "code",
      "metadata": {
        "colab": {
          "base_uri": "https://localhost:8080/"
        },
        "id": "qsZqWc6oyMtr",
        "outputId": "212a778b-c67e-4707-8783-ceb219eec55e"
      },
      "source": [
        "from PyVision.pyvision.gans.deep_convolutional_gan import Deep_Conv_GAN\n",
        "\n",
        "''' Initializing the DC_GAN module with the necessary paths '''\n",
        "Deep_Conv_GAN.inference(Deep_Conv_GAN, set_weight_dir='dcgan-model.pth' , set_gen_dir='result_img')"
      ],
      "execution_count": 2,
      "outputs": [
        {
          "output_type": "stream",
          "text": [
            "Downloading weights\n"
          ],
          "name": "stdout"
        },
        {
          "output_type": "stream",
          "text": [
            "Downloading...\n",
            "From: https://drive.google.com/uc?id=1EMm3rdVZvNoT2y4VtULFNzIwkIQslWQT\n",
            "To: /content/PyVision/pyvision/gans/deep_convolutional_gan/weights/dcgan-model.pth\n",
            "25.5MB [00:00, 79.8MB/s]\n"
          ],
          "name": "stderr"
        },
        {
          "output_type": "stream",
          "text": [
            "Download finished\n",
            "Directory for saving images not found, making a directory named 'result_img'\n",
            "The generated images are saved in the given directory\n"
          ],
          "name": "stdout"
        }
      ]
    },
    {
      "cell_type": "markdown",
      "metadata": {
        "id": "pkvim4YHRG0g"
      },
      "source": [
        "# **Displaying a resulting image**"
      ]
    },
    {
      "cell_type": "code",
      "metadata": {
        "id": "tjleVpnwyckU",
        "colab": {
          "base_uri": "https://localhost:8080/",
          "height": 268
        },
        "outputId": "c9dcd5b5-21fc-49a3-e17a-a162043042ab"
      },
      "source": [
        "import matplotlib.pyplot as plt\n",
        "import matplotlib.image as mpimg\n",
        "img = mpimg.imread('/content/result_img/generated_image_0.jpg')\n",
        "imgplot = plt.imshow(img)\n",
        "plt.show()"
      ],
      "execution_count": 3,
      "outputs": [
        {
          "output_type": "display_data",
          "data": {
            "image/png": "[encoded data removed]",
            "text/plain": [
              "<Figure size 432x288 with 1 Axes>"
            ]
          },
          "metadata": {
            "tags": [],
            "needs_background": "light"
          }
        }
      ]
    },
    {
      "cell_type": "code",
      "metadata": {
        "colab": {
          "base_uri": "https://localhost:8080/",
          "height": 268
        },
        "id": "Ro2NrPjvRf5V",
        "outputId": "01ef42ca-f2ca-4287-abfd-9f1f39bf5c49"
      },
      "source": [
        "img = mpimg.imread('/content/result_img/generated_image_1.jpg')\n",
        "imgplot = plt.imshow(img)\n",
        "plt.show()"
      ],
      "execution_count": 4,
      "outputs": [
        {
          "output_type": "display_data",
          "data": {
            "image/png": "[encoded data removed]",
            "text/plain": [
              "<Figure size 432x288 with 1 Axes>"
            ]
          },
          "metadata": {
            "tags": [],
            "needs_background": "light"
          }
        }
      ]
    }
  ]
}